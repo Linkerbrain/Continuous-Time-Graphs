{
 "cells": [
  {
   "cell_type": "markdown",
   "id": "ad5956da",
   "metadata": {},
   "source": [
    "# Choose your model (!)"
   ]
  },
  {
   "cell_type": "code",
   "execution_count": 1,
   "id": "b0e23428",
   "metadata": {},
   "outputs": [],
   "source": [
    "checkpoint_name = 'CTGRLOD-30'"
   ]
  },
  {
   "cell_type": "markdown",
   "id": "a7b26e2a",
   "metadata": {},
   "source": [
    "# Load Model"
   ]
  },
  {
   "cell_type": "code",
   "execution_count": 2,
   "id": "8c7818f7",
   "metadata": {},
   "outputs": [],
   "source": [
    "import argparse\n",
    "from pytorch_lightning.loggers import NeptuneLogger\n",
    "import neptune.new as neptune\n",
    "\n",
    "from ctgraph.train import make_model, load_best_model, load_dataset, make_dataloaders"
   ]
  },
  {
   "cell_type": "code",
   "execution_count": 3,
   "id": "27124135",
   "metadata": {},
   "outputs": [
    {
     "name": "stdout",
     "output_type": "stream",
     "text": [
      "https://app.neptune.ai/topdogs/ctgr-lodewijks-pc/e/CTGRLOD-30\n",
      "Remember to stop your run once you’ve finished logging your metadata (https://docs.neptune.ai/api-reference/run#.stop). It will be stopped automatically only when the notebook kernel/interactive console is terminated.\n"
     ]
    }
   ],
   "source": [
    "run = neptune.init(run=checkpoint_name,\n",
    "    capture_stdout=False,\n",
    "    capture_stderr=False,\n",
    "    capture_hardware_metrics=False,)\n",
    "neptune = NeptuneLogger(run=run)"
   ]
  },
  {
   "cell_type": "code",
   "execution_count": 4,
   "id": "379db578",
   "metadata": {},
   "outputs": [],
   "source": [
    "param_dic = neptune.experiment[\"global/params\"].fetch()\n",
    "\n",
    "# hacky way to use saved parameters in jupyter notebook\n",
    "parser = argparse.ArgumentParser()\n",
    "for k, v in param_dic.items():\n",
    "    if v == 'True' or v =='False':\n",
    "        parser.add_argument('--' + k, default=v=='True', type=bool)\n",
    "        continue\n",
    "    try:\n",
    "        if str(int(v)) == v:\n",
    "            parser.add_argument('--' + k, default=int(v), type=int)\n",
    "            continue\n",
    "    except:\n",
    "        pass\n",
    "    try:\n",
    "        if str(float(v)) == v:\n",
    "            parser.add_argument('--' + k, default=float(v), type=float)\n",
    "            continue\n",
    "    except:\n",
    "        pass\n",
    "    \n",
    "    if v == 'None':\n",
    "        parser.add_argument('--' + k, default=None)\n",
    "    else:\n",
    "        parser.add_argument('--' + k, default=v)\n",
    "params = parser.parse_args(args=[])"
   ]
  },
  {
   "cell_type": "code",
   "execution_count": 5,
   "id": "f1deb9bc",
   "metadata": {},
   "outputs": [
    {
     "name": "stderr",
     "output_type": "stream",
     "text": [
      "2022-06-03 16:32:07,769 | INFO: Loading dataset...\n",
      "2022-06-03 16:32:07,769 | INFO: Loading dataset 'beauty_neighbour_n50_m1_numuserNone_newsampled_sampleall_partial_save' from disk...\n",
      "2022-06-03 16:32:57,354 | INFO: Loading dataset...Done\n"
     ]
    }
   ],
   "source": [
    "# get data\n",
    "data_name = f\"{params.dataset}_{params.sampler}_n{params.n_max_trans}_m{params.m_order}_numuser{params.num_users}\"\n",
    "if params.newsampler:\n",
    "    data_name += \"_newsampled\"\n",
    "if params.sample_all:\n",
    "    data_name += \"_sampleall\"\n",
    "if params.partial_save:\n",
    "    data_name += \"_partial_save\"\n",
    "    \n",
    "graph, train_data, val_data, test_data = load_dataset(data_name, params)"
   ]
  },
  {
   "cell_type": "code",
   "execution_count": 7,
   "id": "dc0c415f",
   "metadata": {},
   "outputs": [],
   "source": [
    "params.batch_size = 1\n",
    "train_dataloader_gen, val_dataloader_gen, test_dataloader_gen = make_dataloaders(train_data, val_data, test_data,\n",
    "                                                                                     params)\n",
    "\n",
    "train_loader = iter(train_dataloader_gen(0))\n",
    "val_loader = iter(val_dataloader_gen(0))\n",
    "test_loader = iter(test_dataloader_gen(0))"
   ]
  },
  {
   "cell_type": "code",
   "execution_count": 8,
   "id": "bc8f7437",
   "metadata": {},
   "outputs": [
    {
     "name": "stderr",
     "output_type": "stream",
     "text": [
      "2022-06-03 16:33:56,327 | INFO: Making model...\n",
      "2022-06-03 16:33:56,328 | INFO: [CKConv] Starting initiation.\n",
      "2022-06-03 16:33:56,358 | INFO: Making model...Done\n",
      "2022-06-03 16:33:56,431 | INFO: Loaded best model 'C:\\Users\\Lodewijk\\Desktop\\recc\\DGSR-reproduction\\.neptune\\Untitled\\CTGRLOD-30\\checkpoints\\epoch=7-step=32968.ckpt'\n"
     ]
    }
   ],
   "source": [
    "# initiate model\n",
    "model = make_model(graph, params, train_dataloader_gen, val_dataloader_gen, test_dataloader_gen)\n",
    "load_best_model(neptune, model)\n",
    "\n",
    "model = model.eval()"
   ]
  },
  {
   "cell_type": "markdown",
   "id": "eca6bea3",
   "metadata": {},
   "source": [
    "# Experiment"
   ]
  },
  {
   "cell_type": "markdown",
   "id": "d39e0126",
   "metadata": {},
   "source": [
    "Current experiment set up is as follows:\n",
    "\n",
    "To check whether the time matters, we run the data in the test set and save the scores. Then we repeat that process but with the time being randomized instead of based on the dataset.\n",
    "\n",
    "If the model really is using the time, the performance should be higher with the actual time than with random time."
   ]
  },
  {
   "cell_type": "code",
   "execution_count": 20,
   "id": "f11c1bca",
   "metadata": {},
   "outputs": [],
   "source": [
    "# number of datapoints to test on\n",
    "experiment_length = 500\n",
    "random_runs_per_datapoint = 5"
   ]
  },
  {
   "cell_type": "code",
   "execution_count": 21,
   "id": "f1d503e5",
   "metadata": {},
   "outputs": [],
   "source": [
    "import torch\n",
    "import numpy as np\n",
    "import matplotlib.pyplot as plt\n",
    "from tqdm.notebook import tqdm"
   ]
  },
  {
   "cell_type": "code",
   "execution_count": 22,
   "id": "25337f09",
   "metadata": {
    "scrolled": true
   },
   "outputs": [
    {
     "data": {
      "application/vnd.jupyter.widget-view+json": {
       "model_id": "9fb73fdfaa954592901f62858fe3c517",
       "version_major": 2,
       "version_minor": 0
      },
      "text/plain": [
       "  0%|          | 0/500 [00:00<?, ?it/s]"
      ]
     },
     "metadata": {},
     "output_type": "display_data"
    }
   ],
   "source": [
    "all_real = []\n",
    "all_random = []\n",
    "\n",
    "for j, batch in enumerate(tqdm(test_loader, total=experiment_length)):\n",
    "    u_index = batch['eval'].u_index[-1].view(1)\n",
    "    i_code = batch['eval'].i_code[-1].view(1)\n",
    "    \n",
    "    real_t = batch[('u', 'b', 'i')].t\n",
    "    real_score = model.forward(batch, u_index, i_code, predict_i_ptr=False).detach().numpy()[0]\n",
    "\n",
    "    random_scores = []\n",
    "    for i in range(random_runs_per_datapoint):\n",
    "        fake_t = torch.rand(real_t.shape)\n",
    "        batch[('u', 'b', 'i')].t = fake_t\n",
    "        \n",
    "        \n",
    "        #to test with the positional embeddings we will do\n",
    "#         fake_oui = torch.randint(etc..)\n",
    "\n",
    "        random_score = model.forward(batch, u_index, i_code, predict_i_ptr=False)\n",
    "\n",
    "        random_scores.append(random_score.detach().numpy()[0])\n",
    "        \n",
    "    all_real.append(real_score)\n",
    "    all_random += random_scores\n",
    "        \n",
    "    if j > experiment_length:\n",
    "        break"
   ]
  },
  {
   "cell_type": "code",
   "execution_count": 23,
   "id": "3127ddbd",
   "metadata": {
    "scrolled": true
   },
   "outputs": [
    {
     "data": {
      "image/png": "[encoded data removed]",
      "text/plain": [
       "<Figure size 432x288 with 2 Axes>"
      ]
     },
     "metadata": {
      "needs_background": "light"
     },
     "output_type": "display_data"
    }
   ],
   "source": [
    "fig, ax = plt.subplots()\n",
    "\n",
    "ax.set_title(\"Distribution of scores with and without random time\")\n",
    "\n",
    "_, _, p1 = ax.hist(all_random, color=\"steelblue\", bins=75, label='random time', alpha=0.5)\n",
    "p2 = ax.axvline(sum(all_random) / len(all_random), color=\"black\", linewidth=5, linestyle=\"--\", label='avg random time score')\n",
    "\n",
    "ax2 = ax.twinx()\n",
    "\n",
    "_, _, p3 = ax2.hist(all_real, color=\"lightgreen\", bins=75, label='true time', alpha=0.5)\n",
    "p4 = ax2.axvline(sum(all_real) / len(all_real), color=\"green\", linewidth=5, linestyle=\":\", label='avg real time score')\n",
    "\n",
    "ax.legend(loc=0)\n",
    "ax2.legend(loc=4)\n",
    "\n",
    "plt.show()"
   ]
  },
  {
   "cell_type": "code",
   "execution_count": null,
   "id": "e4bc5008",
   "metadata": {},
   "outputs": [],
   "source": []
  }
 ],
 "metadata": {
  "kernelspec": {
   "display_name": "Python [conda env:clean] *",
   "language": "python",
   "name": "conda-env-clean-py"
  },
  "language_info": {
   "codemirror_mode": {
    "name": "ipython",
    "version": 3
   },
   "file_extension": ".py",
   "mimetype": "text/x-python",
   "name": "python",
   "nbconvert_exporter": "python",
   "pygments_lexer": "ipython3",
   "version": "3.9.7"
  }
 },
 "nbformat": 4,
 "nbformat_minor": 5
}
