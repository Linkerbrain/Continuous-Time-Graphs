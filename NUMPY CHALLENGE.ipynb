{
 "cells": [
  {
   "cell_type": "markdown",
   "id": "6a518bc4",
   "metadata": {},
   "source": [
    "# Numpy challenge"
   ]
  },
  {
   "cell_type": "code",
   "execution_count": 77,
   "id": "3b4422f9",
   "metadata": {},
   "outputs": [],
   "source": [
    "import numpy as np\n",
    "import numpy_indexed as npi\n",
    "from collections import defaultdict\n",
    "import pandas as pd\n",
    "from datetime import datetime"
   ]
  },
  {
   "cell_type": "markdown",
   "id": "c1512891",
   "metadata": {},
   "source": [
    "Challenge: Return voor elk element het hoeveelste element dat is so far in de array"
   ]
  },
  {
   "cell_type": "code",
   "execution_count": 79,
   "id": "32eece56",
   "metadata": {},
   "outputs": [],
   "source": [
    "# example\n",
    "inp = np.array([7, 7, 7, 8, 7, 8, 8, 9, 9])\n",
    "outp = np.array([1, 2, 3, 1, 4, 2, 3, 1, 2])"
   ]
  },
  {
   "cell_type": "code",
   "execution_count": 82,
   "id": "71587061",
   "metadata": {},
   "outputs": [
    {
     "data": {
      "text/plain": [
       "array([1, 2, 3, 1, 4, 2, 3, 1, 2])"
      ]
     },
     "execution_count": 82,
     "metadata": {},
     "output_type": "execute_result"
    }
   ],
   "source": [
    "# for loop solution\n",
    "def for_loop_list(inp):\n",
    "    counts_so_far = defaultdict(int)\n",
    "    outp = []\n",
    "    for i in inp:\n",
    "        counts_so_far[i] += 1\n",
    "        outp.append(counts_so_far[i])\n",
    "        \n",
    "    return np.array(outp)\n",
    "\n",
    "for_loop_list(inp)"
   ]
  },
  {
   "cell_type": "code",
   "execution_count": 83,
   "id": "ea3bc10b",
   "metadata": {},
   "outputs": [
    {
     "data": {
      "text/plain": [
       "array([1., 2., 3., 1., 4., 2., 3., 1., 2.])"
      ]
     },
     "execution_count": 83,
     "metadata": {},
     "output_type": "execute_result"
    }
   ],
   "source": [
    "# crazy pandas solution\n",
    "def pandas_rank(inp):\n",
    "    df = pd.DataFrame({'u':inp, 'i':inp})\n",
    "    oui = df.groupby(\"u\")['i'].rank(\"first\")\n",
    "    return oui.values\n",
    "    \n",
    "pandas_rank(inp)"
   ]
  },
  {
   "cell_type": "code",
   "execution_count": 97,
   "id": "8e102de9",
   "metadata": {},
   "outputs": [],
   "source": [
    "# your submission\n",
    "def custom_oui(inp):\n",
    "    dummy = np.zeros_like(inp)\n",
    "    return dummy"
   ]
  },
  {
   "cell_type": "code",
   "execution_count": 98,
   "id": "15bc8bce",
   "metadata": {},
   "outputs": [
    {
     "ename": "AssertionError",
     "evalue": "",
     "output_type": "error",
     "traceback": [
      "\u001b[1;31m---------------------------------------------------------------------------\u001b[0m",
      "\u001b[1;31mAssertionError\u001b[0m                            Traceback (most recent call last)",
      "Input \u001b[1;32mIn [98]\u001b[0m, in \u001b[0;36m<module>\u001b[1;34m\u001b[0m\n\u001b[0;32m      2\u001b[0m \u001b[38;5;28;01massert\u001b[39;00m((for_loop_list(inp) \u001b[38;5;241m==\u001b[39m outp)\u001b[38;5;241m.\u001b[39mall())\n\u001b[0;32m      3\u001b[0m \u001b[38;5;28;01massert\u001b[39;00m((pandas_rank(inp) \u001b[38;5;241m==\u001b[39m outp)\u001b[38;5;241m.\u001b[39mall())\n\u001b[1;32m----> 4\u001b[0m \u001b[38;5;28;01massert\u001b[39;00m((custom_oui(inp) \u001b[38;5;241m==\u001b[39m outp)\u001b[38;5;241m.\u001b[39mall())\n\u001b[0;32m      6\u001b[0m pandas_rank\n",
      "\u001b[1;31mAssertionError\u001b[0m: "
     ]
    }
   ],
   "source": [
    "# verify if it works\n",
    "assert((for_loop_list(inp) == outp).all())\n",
    "assert((pandas_rank(inp) == outp).all())\n",
    "assert((custom_oui(inp) == outp).all())\n",
    "\n",
    "pandas_rank"
   ]
  },
  {
   "cell_type": "markdown",
   "id": "67d66107",
   "metadata": {},
   "source": [
    "# Timing"
   ]
  },
  {
   "cell_type": "code",
   "execution_count": 75,
   "id": "2b4b423d",
   "metadata": {
    "scrolled": true
   },
   "outputs": [
    {
     "data": {
      "text/plain": [
       "array([91, 17, 87, ..., 33, 36, 53])"
      ]
     },
     "execution_count": 75,
     "metadata": {},
     "output_type": "execute_result"
    }
   ],
   "source": [
    "time_inp = np.random.randint(1, 100, size=(5000))\n",
    "time_inp"
   ]
  },
  {
   "cell_type": "code",
   "execution_count": 99,
   "id": "47bb387f",
   "metadata": {},
   "outputs": [
    {
     "name": "stdout",
     "output_type": "stream",
     "text": [
      "For loop scored: 0:00:01.536408\n"
     ]
    }
   ],
   "source": [
    "st = datetime.now()\n",
    "\n",
    "for i in range(1000):\n",
    "    for_loop_list(time_inp)\n",
    "    \n",
    "print(\"For loop scored:\", datetime.now() - st)"
   ]
  },
  {
   "cell_type": "code",
   "execution_count": 100,
   "id": "30125281",
   "metadata": {},
   "outputs": [
    {
     "name": "stdout",
     "output_type": "stream",
     "text": [
      "Pandas scored: 0:00:00.740860\n"
     ]
    }
   ],
   "source": [
    "st = datetime.now()\n",
    "\n",
    "for i in range(1000):\n",
    "    pandas_rank(time_inp)\n",
    "    \n",
    "print(\"Pandas scored:\", datetime.now() - st)"
   ]
  },
  {
   "cell_type": "code",
   "execution_count": 101,
   "id": "6903cbd1",
   "metadata": {},
   "outputs": [
    {
     "name": "stdout",
     "output_type": "stream",
     "text": [
      "Pandas scored: 0:00:00.003999\n"
     ]
    }
   ],
   "source": [
    "st = datetime.now()\n",
    "\n",
    "for i in range(1000):\n",
    "    custom_oui(time_inp)\n",
    "    \n",
    "print(\"Pandas scored:\", datetime.now() - st)"
   ]
  },
  {
   "cell_type": "code",
   "execution_count": null,
   "id": "9469cba8",
   "metadata": {},
   "outputs": [],
   "source": []
  }
 ],
 "metadata": {
  "kernelspec": {
   "display_name": "Python [conda env:clean] *",
   "language": "python",
   "name": "conda-env-clean-py"
  },
  "language_info": {
   "codemirror_mode": {
    "name": "ipython",
    "version": 3
   },
   "file_extension": ".py",
   "mimetype": "text/x-python",
   "name": "python",
   "nbconvert_exporter": "python",
   "pygments_lexer": "ipython3",
   "version": "3.9.7"
  }
 },
 "nbformat": 4,
 "nbformat_minor": 5
}
