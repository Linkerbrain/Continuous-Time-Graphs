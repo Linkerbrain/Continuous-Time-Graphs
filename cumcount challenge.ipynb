{
 "cells": [
  {
   "cell_type": "markdown",
   "id": "69bee5ee",
   "metadata": {},
   "source": [
    "# Numpy challenge"
   ]
  },
  {
   "cell_type": "code",
   "execution_count": 97,
   "id": "48c34b6b",
   "metadata": {},
   "outputs": [],
   "source": [
    "import numpy as np\n",
    "import numpy_indexed as npi\n",
    "from collections import defaultdict\n",
    "import pandas as pd\n",
    "from datetime import datetime"
   ]
  },
  {
   "cell_type": "markdown",
   "id": "d0a4af59",
   "metadata": {},
   "source": [
    "Challenge: Return voor elk element het hoeveelste element dat is so far in de array"
   ]
  },
  {
   "cell_type": "code",
   "execution_count": 98,
   "id": "22004c1a",
   "metadata": {},
   "outputs": [],
   "source": [
    "# example\n",
    "inp = np.array([7, 7, 7, 8, 7, 8, 8, 9, 9])\n",
    "outp = np.array([1, 2, 3, 1, 4, 2, 3, 1, 2])"
   ]
  },
  {
   "cell_type": "code",
   "execution_count": 99,
   "id": "601fe59a",
   "metadata": {},
   "outputs": [
    {
     "data": {
      "text/plain": [
       "array([1, 2, 3, 1, 4, 2, 3, 1, 2])"
      ]
     },
     "execution_count": 99,
     "metadata": {},
     "output_type": "execute_result"
    }
   ],
   "source": [
    "# for loop solution\n",
    "def for_loop_list(inp):\n",
    "    counts_so_far = defaultdict(int)\n",
    "    outp = []\n",
    "    for i in inp:\n",
    "        counts_so_far[i] += 1\n",
    "        outp.append(counts_so_far[i])\n",
    "        \n",
    "    return np.array(outp)\n",
    "\n",
    "for_loop_list(inp)"
   ]
  },
  {
   "cell_type": "code",
   "execution_count": 100,
   "id": "2e583033",
   "metadata": {},
   "outputs": [
    {
     "data": {
      "text/plain": [
       "array([1., 2., 3., 1., 4., 2., 3., 1., 2.])"
      ]
     },
     "execution_count": 100,
     "metadata": {},
     "output_type": "execute_result"
    }
   ],
   "source": [
    "# crazy pandas solution\n",
    "def pandas_rank(inp):\n",
    "    df = pd.DataFrame({'u':inp, 'i':inp})\n",
    "    oui = df.groupby(\"u\")['i'].rank(\"first\")\n",
    "    return oui.values\n",
    "    \n",
    "pandas_rank(inp)"
   ]
  },
  {
   "cell_type": "code",
   "execution_count": 101,
   "id": "4d539f0a",
   "metadata": {},
   "outputs": [],
   "source": [
    "# your submission\n",
    "def custom_oui(inp):\n",
    "    return cumcount(inp) + 1"
   ]
  },
  {
   "cell_type": "code",
   "execution_count": null,
   "id": "63ef2d60",
   "metadata": {},
   "outputs": [],
   "source": []
  },
  {
   "cell_type": "code",
   "execution_count": 102,
   "id": "8c0d566e",
   "metadata": {
    "scrolled": false
   },
   "outputs": [
    {
     "data": {
      "text/plain": [
       "[1, 2, 3, 1, 4, 2, 3, 1, 2]"
      ]
     },
     "execution_count": 102,
     "metadata": {},
     "output_type": "execute_result"
    }
   ],
   "source": [
    "from numba import jit\n",
    "from numba import types\n",
    "from numba.typed import Dict\n",
    "\n",
    "@jit(nopython=True) # Set \"nopython\" mode for best performance, equivalent to @njit\n",
    "def for_loop_list_jit(inp):\n",
    "    counts_so_far = Dict.empty(\n",
    "        key_type=types.int32,\n",
    "        value_type=types.int32,\n",
    "    )\n",
    "    outp = []\n",
    "    for i in inp:\n",
    "        if i in counts_so_far:\n",
    "            counts_so_far[i] += 1\n",
    "        else:\n",
    "            counts_so_far[i] = 1\n",
    "        outp.append(counts_so_far[i])\n",
    "        \n",
    "    return outp\n",
    "\n",
    "for_loop_list_jit(inp)"
   ]
  },
  {
   "cell_type": "code",
   "execution_count": 117,
   "id": "744785e1",
   "metadata": {},
   "outputs": [
    {
     "data": {
      "text/plain": [
       "array([1, 2, 3, 1, 4, 2, 3, 1, 2], dtype=int64)"
      ]
     },
     "execution_count": 117,
     "metadata": {},
     "output_type": "execute_result"
    }
   ],
   "source": [
    "@jit(nopython=True) # Set \"nopython\" mode for best performance, equivalent to @njit\n",
    "def cumcount_jit(a):\n",
    "    n = a.size\n",
    "    s = np.argsort(a, kind='mergesort')\n",
    "    \n",
    "    # argunsort\n",
    "    i = np.empty(n, dtype=np.int32)\n",
    "    i[s] = np.arange(n)\n",
    "    \n",
    "    b = a[s]\n",
    "    \n",
    "    # dfill\n",
    "    bn = b.size\n",
    "    where = np.where(b[:-1] != b[1:])[0] + 1\n",
    "    c = np.array([0] + list(where) + [bn])\n",
    "    c = np.arange(bn)[c[:-1]].repeat(np.diff(c))\n",
    "    \n",
    "    outp = (np.arange(n) - c)[i]\n",
    "    \n",
    "    return outp + 1\n",
    "\n",
    "a = cumcount_jit(inp)\n",
    "a"
   ]
  },
  {
   "cell_type": "markdown",
   "id": "c4b9bb49",
   "metadata": {},
   "source": [
    "# Sandbox"
   ]
  },
  {
   "cell_type": "code",
   "execution_count": 104,
   "id": "a58c3a73",
   "metadata": {},
   "outputs": [
    {
     "data": {
      "text/plain": [
       "array([0, 1, 2, 0, 3, 1, 2, 0, 1])"
      ]
     },
     "execution_count": 104,
     "metadata": {},
     "output_type": "execute_result"
    }
   ],
   "source": [
    "def dfill(a):\n",
    "    n = a.size\n",
    "    b = np.concatenate([[0], np.where(a[:-1] != a[1:])[0] + 1, [n]])\n",
    "    return np.arange(n)[b[:-1]].repeat(np.diff(b))\n",
    "\n",
    "def argunsort(s):\n",
    "    n = s.size\n",
    "    u = np.empty(n, dtype=np.int64)\n",
    "    u[s] = np.arange(n)\n",
    "    return u\n",
    "\n",
    "def cumcount(a):\n",
    "    n = a.size\n",
    "    s = a.argsort(kind='mergesort')\n",
    "    i = argunsort(s)\n",
    "    b = a[s]\n",
    "    return (np.arange(n) - dfill(b))[i]\n",
    "\n",
    "def foo(l):\n",
    "    n = len(l)\n",
    "    r = np.empty(n, dtype=np.int64)\n",
    "    counter = defaultdict(int)\n",
    "    for i in range(n):\n",
    "        counter[l[i]] += 1\n",
    "        r[i] = counter[l[i]]\n",
    "    return r - 1\n",
    "\n",
    "def div(l):\n",
    "    a = np.unique(l, return_counts=1)[1]\n",
    "    idx = a.cumsum()\n",
    "    id_arr = np.ones(idx[-1],dtype=int)\n",
    "    id_arr[0] = 0\n",
    "    id_arr[idx[:-1]] = -a[:-1]+1\n",
    "    rng = id_arr.cumsum()\n",
    "    return rng[argunsort(np.argsort(l))]\n",
    "\n",
    "cumcount(inp)"
   ]
  },
  {
   "cell_type": "markdown",
   "id": "24e7fc3f",
   "metadata": {},
   "source": [
    "# testing"
   ]
  },
  {
   "cell_type": "code",
   "execution_count": 105,
   "id": "e26d2a8f",
   "metadata": {},
   "outputs": [],
   "source": [
    "# verify if it works\n",
    "assert((for_loop_list(inp) == outp).all())\n",
    "assert((pandas_rank(inp) == outp).all())\n",
    "assert((custom_oui(inp) == outp).all())\n",
    "\n",
    "assert((for_loop_list_jit(inp) == outp).all())\n",
    "assert((cumcount_jit(inp) == outp).all())"
   ]
  },
  {
   "cell_type": "markdown",
   "id": "d3498e68",
   "metadata": {},
   "source": [
    "# Timing"
   ]
  },
  {
   "cell_type": "code",
   "execution_count": 106,
   "id": "af05a531",
   "metadata": {
    "scrolled": true
   },
   "outputs": [
    {
     "data": {
      "text/plain": [
       "array([10, 77, 97, ..., 37, 27, 67])"
      ]
     },
     "execution_count": 106,
     "metadata": {},
     "output_type": "execute_result"
    }
   ],
   "source": [
    "time_inp = np.random.randint(1, 100, size=(5000))\n",
    "time_inp"
   ]
  },
  {
   "cell_type": "code",
   "execution_count": 112,
   "id": "351966a0",
   "metadata": {},
   "outputs": [
    {
     "name": "stdout",
     "output_type": "stream",
     "text": [
      "For loop scored: 0:00:07.918176\n"
     ]
    }
   ],
   "source": [
    "st = datetime.now()\n",
    "\n",
    "for i in range(5000):\n",
    "    for_loop_list(time_inp)\n",
    "    \n",
    "print(\"For loop scored:\", datetime.now() - st)"
   ]
  },
  {
   "cell_type": "code",
   "execution_count": 113,
   "id": "bca6dfdf",
   "metadata": {},
   "outputs": [
    {
     "name": "stdout",
     "output_type": "stream",
     "text": [
      "Pandas scored: 0:00:03.630545\n"
     ]
    }
   ],
   "source": [
    "st = datetime.now()\n",
    "\n",
    "for i in range(5000):\n",
    "    pandas_rank(time_inp)\n",
    "    \n",
    "print(\"Pandas scored:\", datetime.now() - st)"
   ]
  },
  {
   "cell_type": "code",
   "execution_count": 114,
   "id": "f23d7074",
   "metadata": {},
   "outputs": [
    {
     "name": "stdout",
     "output_type": "stream",
     "text": [
      "Nerd cumcount scored: 0:00:01.284898\n"
     ]
    }
   ],
   "source": [
    "st = datetime.now()\n",
    "\n",
    "for i in range(5000):\n",
    "    custom_oui(time_inp)\n",
    "    \n",
    "print(\"Nerd cumcount scored:\", datetime.now() - st)"
   ]
  },
  {
   "cell_type": "code",
   "execution_count": 115,
   "id": "ffd8782c",
   "metadata": {},
   "outputs": [
    {
     "name": "stdout",
     "output_type": "stream",
     "text": [
      "For loop optimized jit scored: 0:00:01.267618\n"
     ]
    }
   ],
   "source": [
    "st = datetime.now()\n",
    "\n",
    "for i in range(5000):\n",
    "    for_loop_list_jit(time_inp)\n",
    "    \n",
    "print(\"For loop optimized jit scored:\", datetime.now() - st)"
   ]
  },
  {
   "cell_type": "code",
   "execution_count": 116,
   "id": "5684089d",
   "metadata": {},
   "outputs": [
    {
     "name": "stdout",
     "output_type": "stream",
     "text": [
      "Cumcount optimized jit scored: 0:00:01.359427\n"
     ]
    }
   ],
   "source": [
    "st = datetime.now()\n",
    "\n",
    "for i in range(5000):\n",
    "    cumcount_jit(time_inp)\n",
    "    \n",
    "print(\"Cumcount optimized jit scored:\", datetime.now() - st)"
   ]
  },
  {
   "cell_type": "markdown",
   "id": "cd7666f4",
   "metadata": {},
   "source": [
    "# Implementation"
   ]
  },
  {
   "cell_type": "code",
   "execution_count": 119,
   "id": "66ea76b9",
   "metadata": {},
   "outputs": [],
   "source": [
    "def dfill(a):\n",
    "    n = a.size\n",
    "    b = np.concatenate([[0], np.where(a[:-1] != a[1:])[0] + 1, [n]])\n",
    "    return np.arange(n)[b[:-1]].repeat(np.diff(b))\n",
    "\n",
    "def argunsort(s):\n",
    "    n = s.size\n",
    "    u = np.empty(n, dtype=np.int64)\n",
    "    u[s] = np.arange(n)\n",
    "    return u\n",
    "\n",
    "def cumcount(a):\n",
    "    n = a.size\n",
    "    s = a.argsort(kind='mergesort')\n",
    "    i = argunsort(s)\n",
    "    b = a[s]\n",
    "    return (np.arange(n) - dfill(b))[i]"
   ]
  },
  {
   "cell_type": "code",
   "execution_count": 167,
   "id": "c0da5503",
   "metadata": {},
   "outputs": [
    {
     "data": {
      "text/plain": [
       "(array([1, 3, 2, 2, 1, 1, 4]), array([1, 2, 2, 1, 1, 2, 1]))"
      ]
     },
     "execution_count": 167,
     "metadata": {},
     "output_type": "execute_result"
    }
   ],
   "source": [
    "def add_oui_and_oiu(edges, edges_t):\n",
    "    # prepare arrays\n",
    "    oui = np.zeros_like(edges_t)\n",
    "    oiu = np.zeros_like(edges_t)\n",
    "    \n",
    "    # sort by time\n",
    "    trans_order = np.argsort(edges_t)\n",
    "    \n",
    "    # oui = user's xth transaction, so the cumcount of that users occurence\n",
    "    sorted_users = edges[0, :][trans_order]\n",
    "    oui[trans_order] = cumcount(sorted_users) + 1\n",
    "    \n",
    "    # oiu = item's xth transaction, so the cumcount of that items occurence\n",
    "    sorted_items = edges[1, :][trans_order]\n",
    "    oiu[trans_order] = cumcount(sorted_items) + 1\n",
    "    \n",
    "    return oui, oiu\n",
    "    \n",
    "add_oui_and_oiu(edges, edges_t)"
   ]
  },
  {
   "cell_type": "code",
   "execution_count": 164,
   "id": "6b2522d6",
   "metadata": {},
   "outputs": [
    {
     "data": {
      "text/plain": [
       "array([1, 3, 2, 2, 1, 1, 1])"
      ]
     },
     "execution_count": 164,
     "metadata": {},
     "output_type": "execute_result"
    }
   ],
   "source": [
    "edges = np.array([[1, 1, 1, 2, 2, 3, 1],\n",
    "        [6, 7, 8, 8, 7, 6, 9]])\n",
    "edges_t = np.array([5, 16, 15, 14, 13, 12, 19])\n",
    "\n",
    "trans_order = np.argsort(edges_t)\n",
    "sorted_users"
   ]
  },
  {
   "cell_type": "code",
   "execution_count": 165,
   "id": "4e4feace",
   "metadata": {},
   "outputs": [
    {
     "data": {
      "text/plain": [
       "array([1, 3, 2, 2, 1, 1, 4])"
      ]
     },
     "execution_count": 165,
     "metadata": {},
     "output_type": "execute_result"
    }
   ],
   "source": [
    "oui = np.zeros_like(edges_t)\n",
    "sorted_users = edges[0, :][trans_order]\n",
    "oui[trans_order] = cumcount(sorted_users) + 1\n",
    "oui"
   ]
  },
  {
   "cell_type": "code",
   "execution_count": 166,
   "id": "322e3e45",
   "metadata": {},
   "outputs": [
    {
     "data": {
      "text/plain": [
       "array([1, 2, 2, 1, 1, 2, 1])"
      ]
     },
     "execution_count": 166,
     "metadata": {},
     "output_type": "execute_result"
    }
   ],
   "source": [
    "oiu = np.zeros_like(edges_t)\n",
    "sorted_items = edges[1, :][trans_order]\n",
    "oiu[trans_order] = cumcount(sorted_items) + 1\n",
    "oiu"
   ]
  },
  {
   "cell_type": "code",
   "execution_count": 146,
   "id": "7ebcb3cb",
   "metadata": {},
   "outputs": [
    {
     "data": {
      "text/plain": [
       "array([1, 1, 1, 2, 2, 3, 4])"
      ]
     },
     "execution_count": 146,
     "metadata": {},
     "output_type": "execute_result"
    }
   ],
   "source": [
    "cumcount(sorted_users) + 1"
   ]
  },
  {
   "cell_type": "code",
   "execution_count": 144,
   "id": "5c18e936",
   "metadata": {},
   "outputs": [
    {
     "data": {
      "text/plain": [
       "array([[1, 3, 2, 2, 1, 1, 1],\n",
       "       [9, 6, 7, 8, 8, 7, 6]])"
      ]
     },
     "execution_count": 144,
     "metadata": {},
     "output_type": "execute_result"
    }
   ],
   "source": [
    "edges[:, trans_order]"
   ]
  },
  {
   "cell_type": "code",
   "execution_count": 147,
   "id": "c658084b",
   "metadata": {},
   "outputs": [
    {
     "data": {
      "text/plain": [
       "array([[1, 1, 1, 2, 2, 3, 1],\n",
       "       [6, 7, 8, 8, 7, 6, 9]])"
      ]
     },
     "execution_count": 147,
     "metadata": {},
     "output_type": "execute_result"
    }
   ],
   "source": [
    "edges"
   ]
  },
  {
   "cell_type": "code",
   "execution_count": 151,
   "id": "bcd6c22a",
   "metadata": {},
   "outputs": [
    {
     "data": {
      "text/plain": [
       "array([4, 3, 2, 2, 1, 1, 1])"
      ]
     },
     "execution_count": 151,
     "metadata": {},
     "output_type": "execute_result"
    }
   ],
   "source": [
    "oui"
   ]
  },
  {
   "cell_type": "code",
   "execution_count": 174,
   "id": "af6f3091",
   "metadata": {},
   "outputs": [],
   "source": [
    "import torch\n",
    "import torch.nn as nn"
   ]
  },
  {
   "cell_type": "code",
   "execution_count": 175,
   "id": "618f38c7",
   "metadata": {},
   "outputs": [
    {
     "data": {
      "text/plain": [
       "Embedding(5, 16)"
      ]
     },
     "execution_count": 175,
     "metadata": {},
     "output_type": "execute_result"
    }
   ],
   "source": [
    "emb = nn.Embedding(5, 16)\n",
    "emb"
   ]
  },
  {
   "cell_type": "code",
   "execution_count": 176,
   "id": "17fa2e3b",
   "metadata": {},
   "outputs": [
    {
     "data": {
      "text/plain": [
       "tensor([ 0.3162, -0.1474,  0.4914,  0.9304, -0.9844,  0.7447,  1.7171, -0.4744,\n",
       "         1.1330, -0.4233, -1.0334, -0.1280,  1.6228, -0.8561,  0.7262, -0.2493],\n",
       "       grad_fn=<EmbeddingBackward0>)"
      ]
     },
     "execution_count": 176,
     "metadata": {},
     "output_type": "execute_result"
    }
   ],
   "source": [
    "emb(torch.tensor(1))"
   ]
  },
  {
   "cell_type": "code",
   "execution_count": 179,
   "id": "163c0b94",
   "metadata": {},
   "outputs": [
    {
     "data": {
      "text/plain": [
       "tensor([ 0.3162, -0.1474,  0.4914,  0.9304, -0.9844,  0.7447,  1.7171, -0.4744,\n",
       "         1.1330, -0.4233, -1.0334, -0.1280,  1.6228, -0.8561,  0.7262, -0.2493],\n",
       "       grad_fn=<SelectBackward0>)"
      ]
     },
     "execution_count": 179,
     "metadata": {},
     "output_type": "execute_result"
    }
   ],
   "source": [
    "emb.weight[1]"
   ]
  },
  {
   "cell_type": "code",
   "execution_count": 180,
   "id": "929da0fe",
   "metadata": {},
   "outputs": [],
   "source": [
    "from pprint import pprint"
   ]
  },
  {
   "cell_type": "code",
   "execution_count": null,
   "id": "5ae2a6cc",
   "metadata": {},
   "outputs": [],
   "source": [
    "pprint"
   ]
  }
 ],
 "metadata": {
  "kernelspec": {
   "display_name": "Python [conda env:clean] *",
   "language": "python",
   "name": "conda-env-clean-py"
  },
  "language_info": {
   "codemirror_mode": {
    "name": "ipython",
    "version": 3
   },
   "file_extension": ".py",
   "mimetype": "text/x-python",
   "name": "python",
   "nbconvert_exporter": "python",
   "pygments_lexer": "ipython3",
   "version": "3.9.7"
  }
 },
 "nbformat": 4,
 "nbformat_minor": 5
}
